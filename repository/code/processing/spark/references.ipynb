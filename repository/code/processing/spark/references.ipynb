{
 "cells": [
  {
   "cell_type": "markdown",
   "metadata": {},
   "source": [
    "#### UDF"
   ]
  },
  {
   "cell_type": "code",
   "execution_count": null,
   "metadata": {},
   "outputs": [],
   "source": [
    "def user_importance(avarege_starts, fans, review_count):\n",
    "    if avarege_starts > =3 and fans > 50 and review_count >=15:\n",
    "        return \"rockestar\"\n",
    "    elif avarege_starts < 2 and fans < 20 and review_count<15:\n",
    "        return \"low\"\n",
    "    else:\n",
    "        return\n",
    "\n",
    "#register udf\n",
    "spark.udf.register(\"user_importance\",user_importance)\n",
    "\n",
    "spark.sql(\n",
    "    \"\"\"\n",
    "    SELECT user_importance(average_stars, fans,review_count) AS user_importance, count(*)\n",
    "    FROM bronze_user\n",
    "    GROUP BY 1;\n",
    "    \"\"\"\n",
    ")"
   ]
  }
 ],
 "metadata": {
  "kernelspec": {
   "display_name": "Python 3.10.4 64-bit",
   "language": "python",
   "name": "python3"
  },
  "language_info": {
   "name": "python",
   "version": "3.10.4"
  },
  "orig_nbformat": 4,
  "vscode": {
   "interpreter": {
    "hash": "916dbcbb3f70747c44a77c7bcd40155683ae19c65e1c03b4aa3499c5328201f1"
   }
  }
 },
 "nbformat": 4,
 "nbformat_minor": 2
}
